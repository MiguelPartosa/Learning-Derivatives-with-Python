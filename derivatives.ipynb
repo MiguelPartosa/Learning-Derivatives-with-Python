{
 "cells": [
  {
   "cell_type": "markdown",
   "metadata": {},
   "source": [
    "# Studying Derivatives"
   ]
  },
  {
   "cell_type": "markdown",
   "metadata": {},
   "source": [
    "## What is a derivative\n",
    "- A function that measures the change at a specific point in a graph \n",
    "- Normally, measuring the rate of change in linear graphs can be done by getting the slope. The derivative for all linear functions is constant, because it's linear!\n",
    "- Change is measured by rise over run *(AKA the slope denoted by $m = \\frac{y_2 - y_1}{x_2 - x_1} $)*"
   ]
  },
  {
   "cell_type": "code",
   "execution_count": 1,
   "metadata": {},
   "outputs": [
    {
     "name": "stdout",
     "output_type": "stream",
     "text": [
      "Derivatives are cool\n"
     ]
    }
   ],
   "source": [
    "print(\"Derivatives are cool\")"
   ]
  }
 ],
 "metadata": {
  "kernelspec": {
   "display_name": "base",
   "language": "python",
   "name": "python3"
  },
  "language_info": {
   "codemirror_mode": {
    "name": "ipython",
    "version": 3
   },
   "file_extension": ".py",
   "mimetype": "text/x-python",
   "name": "python",
   "nbconvert_exporter": "python",
   "pygments_lexer": "ipython3",
   "version": "3.11.7"
  }
 },
 "nbformat": 4,
 "nbformat_minor": 2
}
